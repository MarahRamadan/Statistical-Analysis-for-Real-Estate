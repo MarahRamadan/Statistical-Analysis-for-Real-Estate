{
  "nbformat": 4,
  "nbformat_minor": 0,
  "metadata": {
    "colab": {
      "name": "Data Wrangling, Visualization and Statistical Analysis.ipynb",
      "provenance": [],
      "collapsed_sections": [],
      "authorship_tag": "ABX9TyMQXSovrLxoKvs9Pz91kYjI",
      "include_colab_link": true
    },
    "kernelspec": {
      "name": "python3",
      "display_name": "Python 3"
    },
    "language_info": {
      "name": "python"
    }
  },
  "cells": [
    {
      "cell_type": "markdown",
      "metadata": {
        "id": "view-in-github",
        "colab_type": "text"
      },
      "source": [
        "<a href=\"https://colab.research.google.com/github/MarahRamadan/Statistical-Analysis-for-Real-Estate/blob/main/Data_Wrangling%2C_Visualization_and_Statistical_Analysis.ipynb\" target=\"_parent\"><img src=\"https://colab.research.google.com/assets/colab-badge.svg\" alt=\"Open In Colab\"/></a>"
      ]
    },
    {
      "cell_type": "markdown",
      "metadata": {
        "id": "BKI6NzLhnNOR"
      },
      "source": [
        "**Importing Data Sets**"
      ]
    },
    {
      "cell_type": "code",
      "metadata": {
        "colab": {
          "resources": {
            "http://localhost:8080/nbextensions/google.colab/files.js": {
              "data": "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",
              "ok": true,
              "headers": [
                [
                  "content-type",
                  "application/javascript"
                ]
              ],
              "status": 200,
              "status_text": ""
            }
          },
          "base_uri": "https://localhost:8080/",
          "height": 91
        },
        "id": "2JhDN_uGc5fy",
        "outputId": "18a890b2-c7ad-4ced-c700-31bfa4608d58"
      },
      "source": [
        "from google.colab import files\n",
        "\n",
        "uploaded = files.upload()\n",
        "\n",
        "for fn in uploaded.keys():\n",
        "  print('User uploaded file \"{name}\" with length {length} bytes'.format(\n",
        "      name=fn, length=len(uploaded[fn])))"
      ],
      "execution_count": 2,
      "outputs": [
        {
          "output_type": "display_data",
          "data": {
            "text/html": [
              "\n",
              "     <input type=\"file\" id=\"files-3103da1b-aa3f-4eb2-b6db-ec721a328cfd\" name=\"files[]\" multiple disabled\n",
              "        style=\"border:none\" />\n",
              "     <output id=\"result-3103da1b-aa3f-4eb2-b6db-ec721a328cfd\">\n",
              "      Upload widget is only available when the cell has been executed in the\n",
              "      current browser session. Please rerun this cell to enable.\n",
              "      </output>\n",
              "      <script src=\"/nbextensions/google.colab/files.js\"></script> "
            ],
            "text/plain": [
              "<IPython.core.display.HTML object>"
            ]
          },
          "metadata": {}
        },
        {
          "output_type": "stream",
          "name": "stdout",
          "text": [
            "Saving Real Estate Florida.xlsx to Real Estate Florida.xlsx\n",
            "User uploaded file \"Real Estate Florida.xlsx\" with length 41621 bytes\n"
          ]
        }
      ]
    },
    {
      "cell_type": "markdown",
      "metadata": {
        "id": "eK_MhtqWkivd"
      },
      "source": [
        "**Data Wrangling:**"
      ]
    },
    {
      "cell_type": "code",
      "metadata": {
        "id": "g-qU24tXZZNF"
      },
      "source": [
        "import pandas as pd\n",
        "import matplotlib.pyplot as plt\n",
        "import seaborn as sns\n",
        "import numpy as np\n",
        "sns.set() #overwrite the matplotlib with style of seaborn, we'll code the graphs using matplot but displayed with seaborn"
      ],
      "execution_count": 61,
      "outputs": []
    },
    {
      "cell_type": "code",
      "metadata": {
        "id": "O-VbQoM_dWTi"
      },
      "source": [
        "import io\n",
        "\n",
        "df = pd.read_excel(io.BytesIO(uploaded['Real Estate Florida.xlsx']))"
      ],
      "execution_count": 4,
      "outputs": []
    },
    {
      "cell_type": "code",
      "metadata": {
        "colab": {
          "base_uri": "https://localhost:8080/",
          "height": 204
        },
        "id": "dPI-KN3TdnQy",
        "outputId": "2a922aca-1628-42d2-df26-2a14c9b2fb6c"
      },
      "source": [
        "df.head()"
      ],
      "execution_count": 5,
      "outputs": [
        {
          "output_type": "execute_result",
          "data": {
            "text/html": [
              "<div>\n",
              "<style scoped>\n",
              "    .dataframe tbody tr th:only-of-type {\n",
              "        vertical-align: middle;\n",
              "    }\n",
              "\n",
              "    .dataframe tbody tr th {\n",
              "        vertical-align: top;\n",
              "    }\n",
              "\n",
              "    .dataframe thead th {\n",
              "        text-align: right;\n",
              "    }\n",
              "</style>\n",
              "<table border=\"1\" class=\"dataframe\">\n",
              "  <thead>\n",
              "    <tr style=\"text-align: right;\">\n",
              "      <th></th>\n",
              "      <th>Unnamed: 0</th>\n",
              "      <th>Real Estate Florida</th>\n",
              "      <th>Unnamed: 2</th>\n",
              "      <th>Unnamed: 3</th>\n",
              "      <th>Unnamed: 4</th>\n",
              "      <th>Unnamed: 5</th>\n",
              "      <th>Unnamed: 6</th>\n",
              "      <th>Unnamed: 7</th>\n",
              "      <th>Unnamed: 8</th>\n",
              "    </tr>\n",
              "  </thead>\n",
              "  <tbody>\n",
              "    <tr>\n",
              "      <th>0</th>\n",
              "      <td>NaN</td>\n",
              "      <td>NaN</td>\n",
              "      <td>NaN</td>\n",
              "      <td>NaN</td>\n",
              "      <td>NaN</td>\n",
              "      <td>NaN</td>\n",
              "      <td>NaN</td>\n",
              "      <td>NaN</td>\n",
              "      <td>NaN</td>\n",
              "    </tr>\n",
              "    <tr>\n",
              "      <th>1</th>\n",
              "      <td>NaN</td>\n",
              "      <td>NaN</td>\n",
              "      <td>NaN</td>\n",
              "      <td>NaN</td>\n",
              "      <td>NaN</td>\n",
              "      <td>NaN</td>\n",
              "      <td>NaN</td>\n",
              "      <td>NaN</td>\n",
              "      <td>NaN</td>\n",
              "    </tr>\n",
              "    <tr>\n",
              "      <th>2</th>\n",
              "      <td>NaN</td>\n",
              "      <td>NaN</td>\n",
              "      <td>NaN</td>\n",
              "      <td>NaN</td>\n",
              "      <td>NaN</td>\n",
              "      <td>NaN</td>\n",
              "      <td>NaN</td>\n",
              "      <td>NaN</td>\n",
              "      <td>NaN</td>\n",
              "    </tr>\n",
              "    <tr>\n",
              "      <th>3</th>\n",
              "      <td>NaN</td>\n",
              "      <td>Year of sale</td>\n",
              "      <td>Month of sale</td>\n",
              "      <td>Type of property</td>\n",
              "      <td>Area (ft.)</td>\n",
              "      <td>Price</td>\n",
              "      <td>Country</td>\n",
              "      <td>State</td>\n",
              "      <td>Mortgage</td>\n",
              "    </tr>\n",
              "    <tr>\n",
              "      <th>4</th>\n",
              "      <td>NaN</td>\n",
              "      <td>2005</td>\n",
              "      <td>9</td>\n",
              "      <td>House</td>\n",
              "      <td>1042.21</td>\n",
              "      <td>887889</td>\n",
              "      <td>USA</td>\n",
              "      <td>Florida</td>\n",
              "      <td>No</td>\n",
              "    </tr>\n",
              "  </tbody>\n",
              "</table>\n",
              "</div>"
            ],
            "text/plain": [
              "   Unnamed: 0 Real Estate Florida  ... Unnamed: 7 Unnamed: 8\n",
              "0         NaN                 NaN  ...        NaN        NaN\n",
              "1         NaN                 NaN  ...        NaN        NaN\n",
              "2         NaN                 NaN  ...        NaN        NaN\n",
              "3         NaN        Year of sale  ...      State   Mortgage\n",
              "4         NaN                2005  ...    Florida         No\n",
              "\n",
              "[5 rows x 9 columns]"
            ]
          },
          "metadata": {},
          "execution_count": 5
        }
      ]
    },
    {
      "cell_type": "code",
      "metadata": {
        "id": "Ma6GbMOpd7v_"
      },
      "source": [
        "df.drop(df[:3].index, inplace=True)\n"
      ],
      "execution_count": 6,
      "outputs": []
    },
    {
      "cell_type": "code",
      "metadata": {
        "colab": {
          "base_uri": "https://localhost:8080/",
          "height": 204
        },
        "id": "iXn5qGASeYOh",
        "outputId": "ac154e85-82c7-4446-af4c-0238cc9f0ef8"
      },
      "source": [
        "df.head()"
      ],
      "execution_count": 7,
      "outputs": [
        {
          "output_type": "execute_result",
          "data": {
            "text/html": [
              "<div>\n",
              "<style scoped>\n",
              "    .dataframe tbody tr th:only-of-type {\n",
              "        vertical-align: middle;\n",
              "    }\n",
              "\n",
              "    .dataframe tbody tr th {\n",
              "        vertical-align: top;\n",
              "    }\n",
              "\n",
              "    .dataframe thead th {\n",
              "        text-align: right;\n",
              "    }\n",
              "</style>\n",
              "<table border=\"1\" class=\"dataframe\">\n",
              "  <thead>\n",
              "    <tr style=\"text-align: right;\">\n",
              "      <th></th>\n",
              "      <th>Unnamed: 0</th>\n",
              "      <th>Real Estate Florida</th>\n",
              "      <th>Unnamed: 2</th>\n",
              "      <th>Unnamed: 3</th>\n",
              "      <th>Unnamed: 4</th>\n",
              "      <th>Unnamed: 5</th>\n",
              "      <th>Unnamed: 6</th>\n",
              "      <th>Unnamed: 7</th>\n",
              "      <th>Unnamed: 8</th>\n",
              "    </tr>\n",
              "  </thead>\n",
              "  <tbody>\n",
              "    <tr>\n",
              "      <th>3</th>\n",
              "      <td>NaN</td>\n",
              "      <td>Year of sale</td>\n",
              "      <td>Month of sale</td>\n",
              "      <td>Type of property</td>\n",
              "      <td>Area (ft.)</td>\n",
              "      <td>Price</td>\n",
              "      <td>Country</td>\n",
              "      <td>State</td>\n",
              "      <td>Mortgage</td>\n",
              "    </tr>\n",
              "    <tr>\n",
              "      <th>4</th>\n",
              "      <td>NaN</td>\n",
              "      <td>2005</td>\n",
              "      <td>9</td>\n",
              "      <td>House</td>\n",
              "      <td>1042.21</td>\n",
              "      <td>887889</td>\n",
              "      <td>USA</td>\n",
              "      <td>Florida</td>\n",
              "      <td>No</td>\n",
              "    </tr>\n",
              "    <tr>\n",
              "      <th>5</th>\n",
              "      <td>NaN</td>\n",
              "      <td>2007</td>\n",
              "      <td>3</td>\n",
              "      <td>House</td>\n",
              "      <td>2103.94</td>\n",
              "      <td>875352</td>\n",
              "      <td>USA</td>\n",
              "      <td>Florida</td>\n",
              "      <td>No</td>\n",
              "    </tr>\n",
              "    <tr>\n",
              "      <th>6</th>\n",
              "      <td>NaN</td>\n",
              "      <td>2005</td>\n",
              "      <td>12</td>\n",
              "      <td>House</td>\n",
              "      <td>1894.35</td>\n",
              "      <td>869057</td>\n",
              "      <td>USA</td>\n",
              "      <td>Florida</td>\n",
              "      <td>No</td>\n",
              "    </tr>\n",
              "    <tr>\n",
              "      <th>7</th>\n",
              "      <td>NaN</td>\n",
              "      <td>2006</td>\n",
              "      <td>5</td>\n",
              "      <td>House</td>\n",
              "      <td>1783.18</td>\n",
              "      <td>795017</td>\n",
              "      <td>USA</td>\n",
              "      <td>Florida</td>\n",
              "      <td>No</td>\n",
              "    </tr>\n",
              "  </tbody>\n",
              "</table>\n",
              "</div>"
            ],
            "text/plain": [
              "   Unnamed: 0 Real Estate Florida  ... Unnamed: 7 Unnamed: 8\n",
              "3         NaN        Year of sale  ...      State   Mortgage\n",
              "4         NaN                2005  ...    Florida         No\n",
              "5         NaN                2007  ...    Florida         No\n",
              "6         NaN                2005  ...    Florida         No\n",
              "7         NaN                2006  ...    Florida         No\n",
              "\n",
              "[5 rows x 9 columns]"
            ]
          },
          "metadata": {},
          "execution_count": 7
        }
      ]
    },
    {
      "cell_type": "code",
      "metadata": {
        "id": "ZgBJer0Ie_jT"
      },
      "source": [
        "df.drop(labels=\"Unnamed: 0\", axis=1, inplace=True)\n"
      ],
      "execution_count": 8,
      "outputs": []
    },
    {
      "cell_type": "code",
      "metadata": {
        "colab": {
          "base_uri": "https://localhost:8080/",
          "height": 204
        },
        "id": "qXjFR1DOe3rV",
        "outputId": "92892292-67fa-47b5-b81a-a21d3837d829"
      },
      "source": [
        "df.head()"
      ],
      "execution_count": 9,
      "outputs": [
        {
          "output_type": "execute_result",
          "data": {
            "text/html": [
              "<div>\n",
              "<style scoped>\n",
              "    .dataframe tbody tr th:only-of-type {\n",
              "        vertical-align: middle;\n",
              "    }\n",
              "\n",
              "    .dataframe tbody tr th {\n",
              "        vertical-align: top;\n",
              "    }\n",
              "\n",
              "    .dataframe thead th {\n",
              "        text-align: right;\n",
              "    }\n",
              "</style>\n",
              "<table border=\"1\" class=\"dataframe\">\n",
              "  <thead>\n",
              "    <tr style=\"text-align: right;\">\n",
              "      <th></th>\n",
              "      <th>Real Estate Florida</th>\n",
              "      <th>Unnamed: 2</th>\n",
              "      <th>Unnamed: 3</th>\n",
              "      <th>Unnamed: 4</th>\n",
              "      <th>Unnamed: 5</th>\n",
              "      <th>Unnamed: 6</th>\n",
              "      <th>Unnamed: 7</th>\n",
              "      <th>Unnamed: 8</th>\n",
              "    </tr>\n",
              "  </thead>\n",
              "  <tbody>\n",
              "    <tr>\n",
              "      <th>3</th>\n",
              "      <td>Year of sale</td>\n",
              "      <td>Month of sale</td>\n",
              "      <td>Type of property</td>\n",
              "      <td>Area (ft.)</td>\n",
              "      <td>Price</td>\n",
              "      <td>Country</td>\n",
              "      <td>State</td>\n",
              "      <td>Mortgage</td>\n",
              "    </tr>\n",
              "    <tr>\n",
              "      <th>4</th>\n",
              "      <td>2005</td>\n",
              "      <td>9</td>\n",
              "      <td>House</td>\n",
              "      <td>1042.21</td>\n",
              "      <td>887889</td>\n",
              "      <td>USA</td>\n",
              "      <td>Florida</td>\n",
              "      <td>No</td>\n",
              "    </tr>\n",
              "    <tr>\n",
              "      <th>5</th>\n",
              "      <td>2007</td>\n",
              "      <td>3</td>\n",
              "      <td>House</td>\n",
              "      <td>2103.94</td>\n",
              "      <td>875352</td>\n",
              "      <td>USA</td>\n",
              "      <td>Florida</td>\n",
              "      <td>No</td>\n",
              "    </tr>\n",
              "    <tr>\n",
              "      <th>6</th>\n",
              "      <td>2005</td>\n",
              "      <td>12</td>\n",
              "      <td>House</td>\n",
              "      <td>1894.35</td>\n",
              "      <td>869057</td>\n",
              "      <td>USA</td>\n",
              "      <td>Florida</td>\n",
              "      <td>No</td>\n",
              "    </tr>\n",
              "    <tr>\n",
              "      <th>7</th>\n",
              "      <td>2006</td>\n",
              "      <td>5</td>\n",
              "      <td>House</td>\n",
              "      <td>1783.18</td>\n",
              "      <td>795017</td>\n",
              "      <td>USA</td>\n",
              "      <td>Florida</td>\n",
              "      <td>No</td>\n",
              "    </tr>\n",
              "  </tbody>\n",
              "</table>\n",
              "</div>"
            ],
            "text/plain": [
              "  Real Estate Florida     Unnamed: 2  ... Unnamed: 7 Unnamed: 8\n",
              "3        Year of sale  Month of sale  ...      State   Mortgage\n",
              "4                2005              9  ...    Florida         No\n",
              "5                2007              3  ...    Florida         No\n",
              "6                2005             12  ...    Florida         No\n",
              "7                2006              5  ...    Florida         No\n",
              "\n",
              "[5 rows x 8 columns]"
            ]
          },
          "metadata": {},
          "execution_count": 9
        }
      ]
    },
    {
      "cell_type": "code",
      "metadata": {
        "id": "-q3HseO_fJQF"
      },
      "source": [
        "df, df.columns = df[1:] , df.iloc[0]\n"
      ],
      "execution_count": 10,
      "outputs": []
    },
    {
      "cell_type": "code",
      "metadata": {
        "colab": {
          "base_uri": "https://localhost:8080/"
        },
        "id": "cCe6-i3lgL5T",
        "outputId": "9d355faf-7d2d-4671-d44a-f098449d9524"
      },
      "source": [
        "df.columns"
      ],
      "execution_count": 11,
      "outputs": [
        {
          "output_type": "execute_result",
          "data": {
            "text/plain": [
              "Index(['Year of sale', 'Month of sale', 'Type of property', 'Area (ft.)',\n",
              "       'Price', 'Country', 'State', 'Mortgage'],\n",
              "      dtype='object', name=3)"
            ]
          },
          "metadata": {},
          "execution_count": 11
        }
      ]
    },
    {
      "cell_type": "code",
      "metadata": {
        "colab": {
          "base_uri": "https://localhost:8080/",
          "height": 204
        },
        "id": "nex2xjVEgk_j",
        "outputId": "3f86fc54-6024-405f-a9b0-e78fc5014732"
      },
      "source": [
        "df.head()"
      ],
      "execution_count": 12,
      "outputs": [
        {
          "output_type": "execute_result",
          "data": {
            "text/html": [
              "<div>\n",
              "<style scoped>\n",
              "    .dataframe tbody tr th:only-of-type {\n",
              "        vertical-align: middle;\n",
              "    }\n",
              "\n",
              "    .dataframe tbody tr th {\n",
              "        vertical-align: top;\n",
              "    }\n",
              "\n",
              "    .dataframe thead th {\n",
              "        text-align: right;\n",
              "    }\n",
              "</style>\n",
              "<table border=\"1\" class=\"dataframe\">\n",
              "  <thead>\n",
              "    <tr style=\"text-align: right;\">\n",
              "      <th>3</th>\n",
              "      <th>Year of sale</th>\n",
              "      <th>Month of sale</th>\n",
              "      <th>Type of property</th>\n",
              "      <th>Area (ft.)</th>\n",
              "      <th>Price</th>\n",
              "      <th>Country</th>\n",
              "      <th>State</th>\n",
              "      <th>Mortgage</th>\n",
              "    </tr>\n",
              "  </thead>\n",
              "  <tbody>\n",
              "    <tr>\n",
              "      <th>4</th>\n",
              "      <td>2005</td>\n",
              "      <td>9</td>\n",
              "      <td>House</td>\n",
              "      <td>1042.21</td>\n",
              "      <td>887889</td>\n",
              "      <td>USA</td>\n",
              "      <td>Florida</td>\n",
              "      <td>No</td>\n",
              "    </tr>\n",
              "    <tr>\n",
              "      <th>5</th>\n",
              "      <td>2007</td>\n",
              "      <td>3</td>\n",
              "      <td>House</td>\n",
              "      <td>2103.94</td>\n",
              "      <td>875352</td>\n",
              "      <td>USA</td>\n",
              "      <td>Florida</td>\n",
              "      <td>No</td>\n",
              "    </tr>\n",
              "    <tr>\n",
              "      <th>6</th>\n",
              "      <td>2005</td>\n",
              "      <td>12</td>\n",
              "      <td>House</td>\n",
              "      <td>1894.35</td>\n",
              "      <td>869057</td>\n",
              "      <td>USA</td>\n",
              "      <td>Florida</td>\n",
              "      <td>No</td>\n",
              "    </tr>\n",
              "    <tr>\n",
              "      <th>7</th>\n",
              "      <td>2006</td>\n",
              "      <td>5</td>\n",
              "      <td>House</td>\n",
              "      <td>1783.18</td>\n",
              "      <td>795017</td>\n",
              "      <td>USA</td>\n",
              "      <td>Florida</td>\n",
              "      <td>No</td>\n",
              "    </tr>\n",
              "    <tr>\n",
              "      <th>8</th>\n",
              "      <td>2007</td>\n",
              "      <td>5</td>\n",
              "      <td>House</td>\n",
              "      <td>1787.51</td>\n",
              "      <td>787143</td>\n",
              "      <td>USA</td>\n",
              "      <td>Florida</td>\n",
              "      <td>Yes</td>\n",
              "    </tr>\n",
              "  </tbody>\n",
              "</table>\n",
              "</div>"
            ],
            "text/plain": [
              "3 Year of sale Month of sale Type of property  ... Country    State Mortgage\n",
              "4         2005             9            House  ...     USA  Florida       No\n",
              "5         2007             3            House  ...     USA  Florida       No\n",
              "6         2005            12            House  ...     USA  Florida       No\n",
              "7         2006             5            House  ...     USA  Florida       No\n",
              "8         2007             5            House  ...     USA  Florida      Yes\n",
              "\n",
              "[5 rows x 8 columns]"
            ]
          },
          "metadata": {},
          "execution_count": 12
        }
      ]
    },
    {
      "cell_type": "code",
      "metadata": {
        "colab": {
          "base_uri": "https://localhost:8080/",
          "height": 204
        },
        "id": "pbOQJMItgntu",
        "outputId": "407c6999-4cd0-47dd-cc6e-2eb723d6da2e"
      },
      "source": [
        "df.reset_index(drop=True, inplace=True)\n",
        "df.head()"
      ],
      "execution_count": 13,
      "outputs": [
        {
          "output_type": "execute_result",
          "data": {
            "text/html": [
              "<div>\n",
              "<style scoped>\n",
              "    .dataframe tbody tr th:only-of-type {\n",
              "        vertical-align: middle;\n",
              "    }\n",
              "\n",
              "    .dataframe tbody tr th {\n",
              "        vertical-align: top;\n",
              "    }\n",
              "\n",
              "    .dataframe thead th {\n",
              "        text-align: right;\n",
              "    }\n",
              "</style>\n",
              "<table border=\"1\" class=\"dataframe\">\n",
              "  <thead>\n",
              "    <tr style=\"text-align: right;\">\n",
              "      <th>3</th>\n",
              "      <th>Year of sale</th>\n",
              "      <th>Month of sale</th>\n",
              "      <th>Type of property</th>\n",
              "      <th>Area (ft.)</th>\n",
              "      <th>Price</th>\n",
              "      <th>Country</th>\n",
              "      <th>State</th>\n",
              "      <th>Mortgage</th>\n",
              "    </tr>\n",
              "  </thead>\n",
              "  <tbody>\n",
              "    <tr>\n",
              "      <th>0</th>\n",
              "      <td>2005</td>\n",
              "      <td>9</td>\n",
              "      <td>House</td>\n",
              "      <td>1042.21</td>\n",
              "      <td>887889</td>\n",
              "      <td>USA</td>\n",
              "      <td>Florida</td>\n",
              "      <td>No</td>\n",
              "    </tr>\n",
              "    <tr>\n",
              "      <th>1</th>\n",
              "      <td>2007</td>\n",
              "      <td>3</td>\n",
              "      <td>House</td>\n",
              "      <td>2103.94</td>\n",
              "      <td>875352</td>\n",
              "      <td>USA</td>\n",
              "      <td>Florida</td>\n",
              "      <td>No</td>\n",
              "    </tr>\n",
              "    <tr>\n",
              "      <th>2</th>\n",
              "      <td>2005</td>\n",
              "      <td>12</td>\n",
              "      <td>House</td>\n",
              "      <td>1894.35</td>\n",
              "      <td>869057</td>\n",
              "      <td>USA</td>\n",
              "      <td>Florida</td>\n",
              "      <td>No</td>\n",
              "    </tr>\n",
              "    <tr>\n",
              "      <th>3</th>\n",
              "      <td>2006</td>\n",
              "      <td>5</td>\n",
              "      <td>House</td>\n",
              "      <td>1783.18</td>\n",
              "      <td>795017</td>\n",
              "      <td>USA</td>\n",
              "      <td>Florida</td>\n",
              "      <td>No</td>\n",
              "    </tr>\n",
              "    <tr>\n",
              "      <th>4</th>\n",
              "      <td>2007</td>\n",
              "      <td>5</td>\n",
              "      <td>House</td>\n",
              "      <td>1787.51</td>\n",
              "      <td>787143</td>\n",
              "      <td>USA</td>\n",
              "      <td>Florida</td>\n",
              "      <td>Yes</td>\n",
              "    </tr>\n",
              "  </tbody>\n",
              "</table>\n",
              "</div>"
            ],
            "text/plain": [
              "3 Year of sale Month of sale Type of property  ... Country    State Mortgage\n",
              "0         2005             9            House  ...     USA  Florida       No\n",
              "1         2007             3            House  ...     USA  Florida       No\n",
              "2         2005            12            House  ...     USA  Florida       No\n",
              "3         2006             5            House  ...     USA  Florida       No\n",
              "4         2007             5            House  ...     USA  Florida      Yes\n",
              "\n",
              "[5 rows x 8 columns]"
            ]
          },
          "metadata": {},
          "execution_count": 13
        }
      ]
    },
    {
      "cell_type": "markdown",
      "metadata": {
        "id": "Kas7h2Col_MG"
      },
      "source": [
        "**Data Visualization for Statistics**"
      ]
    },
    {
      "cell_type": "markdown",
      "metadata": {
        "id": "TCvReyt2kqX5"
      },
      "source": [
        "Create three histograms based on the price variable of the different property types (Apartment, House, and Office)."
      ]
    },
    {
      "cell_type": "code",
      "metadata": {
        "colab": {
          "base_uri": "https://localhost:8080/",
          "height": 286
        },
        "id": "oH6czbWtxf5A",
        "outputId": "b92f7150-f929-4b46-80be-d5477ee2464a"
      },
      "source": [
        "df.groupby('Type of property').count()['Price'].hist(bins=7)"
      ],
      "execution_count": 14,
      "outputs": [
        {
          "output_type": "execute_result",
          "data": {
            "text/plain": [
              "<matplotlib.axes._subplots.AxesSubplot at 0x7f5047363a90>"
            ]
          },
          "metadata": {},
          "execution_count": 14
        },
        {
          "output_type": "display_data",
          "data": {
            "image/png": "[encoded data removed]",
            "text/plain": [
              "<Figure size 432x288 with 1 Axes>"
            ]
          },
          "metadata": {}
        }
      ]
    },
    {
      "cell_type": "code",
      "metadata": {
        "colab": {
          "base_uri": "https://localhost:8080/",
          "height": 514
        },
        "id": "s8DsjnDMuuP9",
        "outputId": "fed98995-2c32-43c9-a4f4-409b33e8d031"
      },
      "source": [
        "grouped = df.groupby('Type of property')\n",
        "grouped.head()"
      ],
      "execution_count": 15,
      "outputs": [
        {
          "output_type": "execute_result",
          "data": {
            "text/html": [
              "<div>\n",
              "<style scoped>\n",
              "    .dataframe tbody tr th:only-of-type {\n",
              "        vertical-align: middle;\n",
              "    }\n",
              "\n",
              "    .dataframe tbody tr th {\n",
              "        vertical-align: top;\n",
              "    }\n",
              "\n",
              "    .dataframe thead th {\n",
              "        text-align: right;\n",
              "    }\n",
              "</style>\n",
              "<table border=\"1\" class=\"dataframe\">\n",
              "  <thead>\n",
              "    <tr style=\"text-align: right;\">\n",
              "      <th>3</th>\n",
              "      <th>Year of sale</th>\n",
              "      <th>Month of sale</th>\n",
              "      <th>Type of property</th>\n",
              "      <th>Area (ft.)</th>\n",
              "      <th>Price</th>\n",
              "      <th>Country</th>\n",
              "      <th>State</th>\n",
              "      <th>Mortgage</th>\n",
              "    </tr>\n",
              "  </thead>\n",
              "  <tbody>\n",
              "    <tr>\n",
              "      <th>0</th>\n",
              "      <td>2005</td>\n",
              "      <td>9</td>\n",
              "      <td>House</td>\n",
              "      <td>1042.21</td>\n",
              "      <td>887889</td>\n",
              "      <td>USA</td>\n",
              "      <td>Florida</td>\n",
              "      <td>No</td>\n",
              "    </tr>\n",
              "    <tr>\n",
              "      <th>1</th>\n",
              "      <td>2007</td>\n",
              "      <td>3</td>\n",
              "      <td>House</td>\n",
              "      <td>2103.94</td>\n",
              "      <td>875352</td>\n",
              "      <td>USA</td>\n",
              "      <td>Florida</td>\n",
              "      <td>No</td>\n",
              "    </tr>\n",
              "    <tr>\n",
              "      <th>2</th>\n",
              "      <td>2005</td>\n",
              "      <td>12</td>\n",
              "      <td>House</td>\n",
              "      <td>1894.35</td>\n",
              "      <td>869057</td>\n",
              "      <td>USA</td>\n",
              "      <td>Florida</td>\n",
              "      <td>No</td>\n",
              "    </tr>\n",
              "    <tr>\n",
              "      <th>3</th>\n",
              "      <td>2006</td>\n",
              "      <td>5</td>\n",
              "      <td>House</td>\n",
              "      <td>1783.18</td>\n",
              "      <td>795017</td>\n",
              "      <td>USA</td>\n",
              "      <td>Florida</td>\n",
              "      <td>No</td>\n",
              "    </tr>\n",
              "    <tr>\n",
              "      <th>4</th>\n",
              "      <td>2007</td>\n",
              "      <td>5</td>\n",
              "      <td>House</td>\n",
              "      <td>1787.51</td>\n",
              "      <td>787143</td>\n",
              "      <td>USA</td>\n",
              "      <td>Florida</td>\n",
              "      <td>Yes</td>\n",
              "    </tr>\n",
              "    <tr>\n",
              "      <th>9</th>\n",
              "      <td>2007</td>\n",
              "      <td>12</td>\n",
              "      <td>Apartment</td>\n",
              "      <td>1505.05</td>\n",
              "      <td>763365</td>\n",
              "      <td>USA</td>\n",
              "      <td>Florida</td>\n",
              "      <td>Yes</td>\n",
              "    </tr>\n",
              "    <tr>\n",
              "      <th>11</th>\n",
              "      <td>2007</td>\n",
              "      <td>5</td>\n",
              "      <td>Apartment</td>\n",
              "      <td>1830.84</td>\n",
              "      <td>761413</td>\n",
              "      <td>USA</td>\n",
              "      <td>Florida</td>\n",
              "      <td>Yes</td>\n",
              "    </tr>\n",
              "    <tr>\n",
              "      <th>13</th>\n",
              "      <td>2007</td>\n",
              "      <td>9</td>\n",
              "      <td>Apartment</td>\n",
              "      <td>1506.15</td>\n",
              "      <td>760105</td>\n",
              "      <td>USA</td>\n",
              "      <td>Florida</td>\n",
              "      <td>Yes</td>\n",
              "    </tr>\n",
              "    <tr>\n",
              "      <th>14</th>\n",
              "      <td>2006</td>\n",
              "      <td>1</td>\n",
              "      <td>Apartment</td>\n",
              "      <td>1456.08</td>\n",
              "      <td>757632</td>\n",
              "      <td>USA</td>\n",
              "      <td>Florida</td>\n",
              "      <td>Yes</td>\n",
              "    </tr>\n",
              "    <tr>\n",
              "      <th>118</th>\n",
              "      <td>2006</td>\n",
              "      <td>10</td>\n",
              "      <td>Apartment</td>\n",
              "      <td>1732.74</td>\n",
              "      <td>562131</td>\n",
              "      <td>USA</td>\n",
              "      <td>Florida</td>\n",
              "      <td>No</td>\n",
              "    </tr>\n",
              "    <tr>\n",
              "      <th>125</th>\n",
              "      <td>2007</td>\n",
              "      <td>5</td>\n",
              "      <td>Office</td>\n",
              "      <td>1638.95</td>\n",
              "      <td>535764</td>\n",
              "      <td>USA</td>\n",
              "      <td>Florida</td>\n",
              "      <td>No</td>\n",
              "    </tr>\n",
              "    <tr>\n",
              "      <th>126</th>\n",
              "      <td>2007</td>\n",
              "      <td>12</td>\n",
              "      <td>Office</td>\n",
              "      <td>1962.83</td>\n",
              "      <td>535537</td>\n",
              "      <td>USA</td>\n",
              "      <td>Florida</td>\n",
              "      <td>Yes</td>\n",
              "    </tr>\n",
              "    <tr>\n",
              "      <th>133</th>\n",
              "      <td>2007</td>\n",
              "      <td>3</td>\n",
              "      <td>Office</td>\n",
              "      <td>1780.71</td>\n",
              "      <td>519517</td>\n",
              "      <td>USA</td>\n",
              "      <td>Florida</td>\n",
              "      <td>No</td>\n",
              "    </tr>\n",
              "    <tr>\n",
              "      <th>144</th>\n",
              "      <td>2007</td>\n",
              "      <td>9</td>\n",
              "      <td>Office</td>\n",
              "      <td>1574.95</td>\n",
              "      <td>506810</td>\n",
              "      <td>USA</td>\n",
              "      <td>Florida</td>\n",
              "      <td>No</td>\n",
              "    </tr>\n",
              "    <tr>\n",
              "      <th>155</th>\n",
              "      <td>2007</td>\n",
              "      <td>9</td>\n",
              "      <td>Office</td>\n",
              "      <td>1729.71</td>\n",
              "      <td>492612</td>\n",
              "      <td>USA</td>\n",
              "      <td>Florida</td>\n",
              "      <td>No</td>\n",
              "    </tr>\n",
              "  </tbody>\n",
              "</table>\n",
              "</div>"
            ],
            "text/plain": [
              "3   Year of sale Month of sale Type of property  ... Country    State Mortgage\n",
              "0           2005             9            House  ...     USA  Florida       No\n",
              "1           2007             3            House  ...     USA  Florida       No\n",
              "2           2005            12            House  ...     USA  Florida       No\n",
              "3           2006             5            House  ...     USA  Florida       No\n",
              "4           2007             5            House  ...     USA  Florida      Yes\n",
              "9           2007            12        Apartment  ...     USA  Florida      Yes\n",
              "11          2007             5        Apartment  ...     USA  Florida      Yes\n",
              "13          2007             9        Apartment  ...     USA  Florida      Yes\n",
              "14          2006             1        Apartment  ...     USA  Florida      Yes\n",
              "118         2006            10        Apartment  ...     USA  Florida       No\n",
              "125         2007             5           Office  ...     USA  Florida       No\n",
              "126         2007            12           Office  ...     USA  Florida      Yes\n",
              "133         2007             3           Office  ...     USA  Florida       No\n",
              "144         2007             9           Office  ...     USA  Florida       No\n",
              "155         2007             9           Office  ...     USA  Florida       No\n",
              "\n",
              "[15 rows x 8 columns]"
            ]
          },
          "metadata": {},
          "execution_count": 15
        }
      ]
    },
    {
      "cell_type": "code",
      "metadata": {
        "id": "Wba275A3HE9d"
      },
      "source": [
        "group1 = grouped.get_group(\"Apartment\")\n",
        "group2 = grouped.get_group(\"House\")\n",
        "group3 = grouped.get_group(\"Office\")"
      ],
      "execution_count": 16,
      "outputs": []
    },
    {
      "cell_type": "code",
      "metadata": {
        "colab": {
          "base_uri": "https://localhost:8080/",
          "height": 728
        },
        "id": "q_0eqxb_vGKy",
        "outputId": "4925c905-131b-4b31-964c-cf51caadfe9c"
      },
      "source": [
        "import numpy as np\n",
        "binwidth = 100000\n",
        "df.Price.hist(by=df['Type of property'],bins=np.arange(min(df['Price']), max(df['Price']) + binwidth, binwidth)\n",
        "              , figsize=(10,10))"
      ],
      "execution_count": 18,
      "outputs": [
        {
          "output_type": "execute_result",
          "data": {
            "text/plain": [
              "array([[<matplotlib.axes._subplots.AxesSubplot object at 0x7f5046ca7510>,\n",
              "        <matplotlib.axes._subplots.AxesSubplot object at 0x7f5046bcf490>],\n",
              "       [<matplotlib.axes._subplots.AxesSubplot object at 0x7f5046b81b10>,\n",
              "        <matplotlib.axes._subplots.AxesSubplot object at 0x7f5046b421d0>]],\n",
              "      dtype=object)"
            ]
          },
          "metadata": {},
          "execution_count": 18
        },
        {
          "output_type": "display_data",
          "data": {
            "image/png": "[encoded data removed]",
            "text/plain": [
              "<Figure size 720x720 with 4 Axes>"
            ]
          },
          "metadata": {}
        }
      ]
    },
    {
      "cell_type": "code",
      "metadata": {
        "colab": {
          "base_uri": "https://localhost:8080/",
          "height": 447
        },
        "id": "gFvhfOC7iy7I",
        "outputId": "7ddd4504-2f0a-4e86-f57d-a011fe276380"
      },
      "source": [
        "sns.set_style(\"white\") # override the default matplotlib style, to avoid the grey background and grid\n",
        "plt.figure(figsize = (8, 6)) # determine the size of the figure\n",
        "y, x, patches = plt.hist(group1[\"Price\"],# the variable on which to create the histogram\n",
        "         bins = 7, # create a histogram with 8 bins\n",
        "         color = \"#108A99\")\n",
        "plt.title(\"Distribution of Real Estate Prices of Apartments\", fontsize = 14, weight = \"bold\")\n",
        "plt.xlabel(\"Price in (000's $)\")\n",
        "plt.ylabel(\"Number of Properties\")\n",
        "sns.despine() # removes the top and right border of our graph\n",
        "plt.show()\n",
        "\n",
        "print (x.max())\n",
        "print (y.max())\n"
      ],
      "execution_count": 47,
      "outputs": [
        {
          "output_type": "display_data",
          "data": {
            "image/png": "[encoded data removed]",
            "text/plain": [
              "<Figure size 576x432 with 1 Axes>"
            ]
          },
          "metadata": {}
        },
        {
          "output_type": "stream",
          "name": "stdout",
          "text": [
            "763365.0\n",
            "223.0\n"
          ]
        }
      ]
    },
    {
      "cell_type": "code",
      "metadata": {
        "colab": {
          "base_uri": "https://localhost:8080/"
        },
        "id": "s4fxHk9QOSzA",
        "outputId": "78d6f7f4-45d0-48c7-f910-b7c6b79dddfd"
      },
      "source": [
        "[print(x) for x in patches] "
      ],
      "execution_count": 48,
      "outputs": [
        {
          "output_type": "stream",
          "name": "stdout",
          "text": [
            "Rectangle(xy=(97669, 0), width=95099.4, height=57, angle=0)\n",
            "Rectangle(xy=(192768, 0), width=95099.4, height=223, angle=0)\n",
            "Rectangle(xy=(287868, 0), width=95099.4, height=96, angle=0)\n",
            "Rectangle(xy=(382967, 0), width=95099.4, height=54, angle=0)\n",
            "Rectangle(xy=(478067, 0), width=95099.4, height=23, angle=0)\n",
            "Rectangle(xy=(573166, 0), width=95099.4, height=0, angle=0)\n",
            "Rectangle(xy=(668266, 0), width=95099.4, height=4, angle=0)\n"
          ]
        },
        {
          "output_type": "execute_result",
          "data": {
            "text/plain": [
              "[None, None, None, None, None, None, None]"
            ]
          },
          "metadata": {},
          "execution_count": 48
        }
      ]
    },
    {
      "cell_type": "code",
      "metadata": {
        "colab": {
          "base_uri": "https://localhost:8080/",
          "height": 411
        },
        "id": "Exb4VFZLH-wB",
        "outputId": "460f9097-9d06-4aa4-957e-950e82929d88"
      },
      "source": [
        "sns.set_style(\"white\") # override the default matplotlib style, to avoid the grey background and grid\n",
        "plt.figure(figsize = (8, 6)) # determine the size of the figure\n",
        "plt.hist(group2[\"Price\"],# the variable on which to create the histogram\n",
        "         bins = 8, # create a histogram with 8 bins\n",
        "         color = \"#108A99\")\n",
        "plt.title(\"Distribution of Real Estate Prices of Houses\", fontsize = 14, weight = \"bold\")\n",
        "plt.xlabel(\"Price in (000's $)\")\n",
        "plt.ylabel(\"Number of Properties\")\n",
        "sns.despine() # removes the top and right border of our graph\n",
        "plt.show()"
      ],
      "execution_count": 22,
      "outputs": [
        {
          "output_type": "display_data",
          "data": {
            "image/png": "[encoded data removed]",
            "text/plain": [
              "<Figure size 576x432 with 1 Axes>"
            ]
          },
          "metadata": {}
        }
      ]
    },
    {
      "cell_type": "code",
      "metadata": {
        "colab": {
          "base_uri": "https://localhost:8080/",
          "height": 411
        },
        "id": "5dSGcfTFH_np",
        "outputId": "5ce237dd-a671-4451-9c39-4d2b85c45a46"
      },
      "source": [
        "sns.set_style(\"white\") # override the default matplotlib style, to avoid the grey background and grid\n",
        "plt.figure(figsize = (8, 6)) # determine the size of the figure\n",
        "plt.hist(group3[\"Price\"],# the variable on which to create the histogram\n",
        "         bins = 8, # create a histogram with 8 bins\n",
        "         color = \"#108A99\")\n",
        "plt.title(\"Distribution of Real Estate Prices of Offices\", fontsize = 14, weight = \"bold\")\n",
        "plt.xlabel(\"Price in (000's $)\")\n",
        "plt.ylabel(\"Number of Properties\")\n",
        "sns.despine() # removes the top and right border of our graph\n",
        "plt.show()"
      ],
      "execution_count": 23,
      "outputs": [
        {
          "output_type": "display_data",
          "data": {
            "image/png": "[encoded data removed]",
            "text/plain": [
              "<Figure size 576x432 with 1 Axes>"
            ]
          },
          "metadata": {}
        }
      ]
    },
    {
      "cell_type": "markdown",
      "metadata": {
        "id": "NOYmKuUeVKh-"
      },
      "source": [
        "The scatter plots show a very strong linear relationship between Price and Area for Apartments "
      ]
    },
    {
      "cell_type": "code",
      "metadata": {
        "colab": {
          "base_uri": "https://localhost:8080/",
          "height": 575
        },
        "id": "bZkn8vsiTROg",
        "outputId": "909fbf1b-1fb9-459e-f28f-72f3b69d8fd3"
      },
      "source": [
        "plt.figure(figsize = (12, 8)) # size of the figure\n",
        "scatter = plt.scatter(group1['Area (ft.)'],\n",
        "            group1['Price'], \n",
        "            alpha = 0.6, #transparency level of points on the plot. Used to avoid overplotting\n",
        "            cmap = 'viridis') #color map for the third variable\n",
        "# add and format additional elements, such as legends, titles and axis labels\n",
        "plt.legend(*scatter.legend_elements(),\n",
        "           loc = \"upper left\",\n",
        "           title = \"Building Type\")\n",
        "plt.title(\"Relationship between Area and Price of Florida Real Estate (Apartments)\", \n",
        "          fontsize = 14, \n",
        "          weight = \"bold\")\n",
        "plt.xlabel(\"Area (sq. ft.)\", weight = \"bold\")\n",
        "plt.ylabel(\"Price (000's of $)\")\n",
        "plt.show()"
      ],
      "execution_count": 53,
      "outputs": [
        {
          "output_type": "stream",
          "name": "stderr",
          "text": [
            "/usr/local/lib/python3.7/dist-packages/matplotlib/collections.py:988: UserWarning: Collection without array used. Make sure to specify the values to be colormapped via the `c` argument.\n",
            "  warnings.warn(\"Collection without array used. Make sure to \"\n"
          ]
        },
        {
          "output_type": "display_data",
          "data": {
            "image/png": "[encoded data removed]",
            "text/plain": [
              "<Figure size 864x576 with 1 Axes>"
            ]
          },
          "metadata": {}
        }
      ]
    },
    {
      "cell_type": "markdown",
      "metadata": {
        "id": "ZzLQ9QfQVkV-"
      },
      "source": [
        "At the same time, the scatter plot shows a low correlation between Price and Area for Houses."
      ]
    },
    {
      "cell_type": "code",
      "metadata": {
        "colab": {
          "base_uri": "https://localhost:8080/",
          "height": 575
        },
        "id": "YtDDDdq7Tqh-",
        "outputId": "892981c0-6315-4d16-bdb6-0e0f2cc32593"
      },
      "source": [
        "plt.figure(figsize = (12, 8)) # size of the figure\n",
        "scatter = plt.scatter(group2['Area (ft.)'],\n",
        "            group2['Price'], \n",
        "            alpha = 0.6, #transparency level of points on the plot. Used to avoid overplotting\n",
        "            cmap = 'viridis') #color map for the third variable\n",
        "# add and format additional elements, such as legends, titles and axis labels\n",
        "plt.legend(*scatter.legend_elements(),\n",
        "           loc = \"upper left\",\n",
        "           title = \"Building Type\")\n",
        "plt.title(\"Relationship between Area and Price of Florida Real Estate (House)\", \n",
        "          fontsize = 14, \n",
        "          weight = \"bold\")\n",
        "plt.xlabel(\"Area (sq. ft.)\", weight = \"bold\")\n",
        "plt.ylabel(\"Price (000's of $)\")\n",
        "plt.show()"
      ],
      "execution_count": 54,
      "outputs": [
        {
          "output_type": "stream",
          "name": "stderr",
          "text": [
            "/usr/local/lib/python3.7/dist-packages/matplotlib/collections.py:988: UserWarning: Collection without array used. Make sure to specify the values to be colormapped via the `c` argument.\n",
            "  warnings.warn(\"Collection without array used. Make sure to \"\n"
          ]
        },
        {
          "output_type": "display_data",
          "data": {
            "image/png": "[encoded data removed]",
            "text/plain": [
              "<Figure size 864x576 with 1 Axes>"
            ]
          },
          "metadata": {}
        }
      ]
    },
    {
      "cell_type": "markdown",
      "metadata": {
        "id": "RrTkFT3QVeyt"
      },
      "source": [
        "The scatter plots show a very strong linear relationship between Price and Area for Offices"
      ]
    },
    {
      "cell_type": "code",
      "metadata": {
        "colab": {
          "base_uri": "https://localhost:8080/",
          "height": 575
        },
        "id": "mKcHlo0fm9cV",
        "outputId": "a9f7f8ff-ffa6-4f56-c833-01b70e36c314"
      },
      "source": [
        "plt.figure(figsize = (12, 8)) # size of the figure\n",
        "scatter = plt.scatter(group3['Area (ft.)'],\n",
        "            group3['Price'], \n",
        "            alpha = 0.6, #transparency level of points on the plot. Used to avoid overplotting\n",
        "            cmap = 'viridis') #color map for the third variable\n",
        "# add and format additional elements, such as legends, titles and axis labels\n",
        "plt.legend(*scatter.legend_elements(),\n",
        "           loc = \"upper left\",\n",
        "           title = \"Building Type\")\n",
        "plt.title(\"Relationship between Area and Price of Florida Real Estate (Office)\", \n",
        "          fontsize = 14, \n",
        "          weight = \"bold\")\n",
        "plt.xlabel(\"Area (sq. ft.)\", weight = \"bold\")\n",
        "plt.ylabel(\"Price (000's of $)\")\n",
        "plt.show()"
      ],
      "execution_count": 55,
      "outputs": [
        {
          "output_type": "stream",
          "name": "stderr",
          "text": [
            "/usr/local/lib/python3.7/dist-packages/matplotlib/collections.py:988: UserWarning: Collection without array used. Make sure to specify the values to be colormapped via the `c` argument.\n",
            "  warnings.warn(\"Collection without array used. Make sure to \"\n"
          ]
        },
        {
          "output_type": "display_data",
          "data": {
            "image/png": "[encoded data removed]",
            "text/plain": [
              "<Figure size 864x576 with 1 Axes>"
            ]
          },
          "metadata": {}
        }
      ]
    },
    {
      "cell_type": "markdown",
      "metadata": {
        "id": "ulBfURlglOME"
      },
      "source": [
        "**Statistical Analysis**"
      ]
    },
    {
      "cell_type": "code",
      "metadata": {
        "id": "j0KBTBfyQtS2"
      },
      "source": [
        "from scipy.stats import skew\n",
        "from scipy import stats"
      ],
      "execution_count": 63,
      "outputs": []
    },
    {
      "cell_type": "markdown",
      "metadata": {
        "id": "N7_OoYhaW3F-"
      },
      "source": [
        "Skewnees of apartment Prices: "
      ]
    },
    {
      "cell_type": "code",
      "metadata": {
        "colab": {
          "base_uri": "https://localhost:8080/"
        },
        "id": "Ehi9-JzOWKSg",
        "outputId": "f7135f15-17f3-4adb-dd47-a4fd37aed85f"
      },
      "source": [
        "print(skew(group1['Price']))"
      ],
      "execution_count": 58,
      "outputs": [
        {
          "output_type": "stream",
          "name": "stdout",
          "text": [
            "1.3457697492547713\n"
          ]
        }
      ]
    },
    {
      "cell_type": "markdown",
      "metadata": {
        "id": "G2l2v5N3XEBC"
      },
      "source": [
        "Skewnees of house Prices:  \n",
        " \n",
        " \n",
        "The house prices exhibit a negative skewness. The mean will be less than the median."
      ]
    },
    {
      "cell_type": "code",
      "metadata": {
        "colab": {
          "base_uri": "https://localhost:8080/"
        },
        "id": "CT0roPzpWWnR",
        "outputId": "6a5fda54-a417-41e3-fc44-953a2c9500d8"
      },
      "source": [
        "print(skew(group2['Price']))"
      ],
      "execution_count": 59,
      "outputs": [
        {
          "output_type": "stream",
          "name": "stdout",
          "text": [
            "-1.0780229259088472\n"
          ]
        }
      ]
    },
    {
      "cell_type": "markdown",
      "metadata": {
        "id": "4SKR82AbXIAV"
      },
      "source": [
        "Skewnees of office Prices"
      ]
    },
    {
      "cell_type": "code",
      "metadata": {
        "colab": {
          "base_uri": "https://localhost:8080/"
        },
        "id": "0EbOHcIWWfHM",
        "outputId": "29a82f96-ff32-471a-92c8-f4f135757c4e"
      },
      "source": [
        "print(skew(group3['Price']))"
      ],
      "execution_count": 60,
      "outputs": [
        {
          "output_type": "stream",
          "name": "stdout",
          "text": [
            "0.9166934061735359\n"
          ]
        }
      ]
    },
    {
      "cell_type": "markdown",
      "metadata": {
        "id": "9BNZD2Z4mVxT"
      },
      "source": [
        "Calculate mean, median and mode"
      ]
    },
    {
      "cell_type": "code",
      "metadata": {
        "colab": {
          "base_uri": "https://localhost:8080/"
        },
        "id": "jeJRUVNYWgcj",
        "outputId": "3f03d9f4-0fad-407f-8f66-b1d71a739b36"
      },
      "source": [
        "mean = np.mean(group2['Price'])\n",
        "median = np.median(group2['Price'])\n",
        "mode = stats.mode(group2['Price'])\n",
        "\n",
        "print('Mean = ', mean)\n",
        "print('Median = ', median)\n",
        "print('Mode = ', mode)"
      ],
      "execution_count": 65,
      "outputs": [
        {
          "output_type": "stream",
          "name": "stdout",
          "text": [
            "Mean =  634479.7913669065\n",
            "Median =  650392.0\n",
            "Mode =  ModeResult(mode=array([272450], dtype=object), count=array([2]))\n"
          ]
        }
      ]
    },
    {
      "cell_type": "markdown",
      "metadata": {
        "id": "v9QQXXQ5dGEh"
      },
      "source": [
        "Covariance and Correlation Calculation:"
      ]
    },
    {
      "cell_type": "markdown",
      "metadata": {
        "id": "y4AWa4i2hGos"
      },
      "source": [
        "Apartment"
      ]
    },
    {
      "cell_type": "code",
      "metadata": {
        "colab": {
          "base_uri": "https://localhost:8080/"
        },
        "id": "KYf7C_1kdZZO",
        "outputId": "6af203d3-ed93-48ed-e038-ae62419fee2c"
      },
      "source": [
        "print (\"Covariance = \", np.cov(group1['Price'].astype(float), group1['Area (ft.)'].astype(float), rowvar=False)[0][1])\n",
        "print (\"Correlation = \", stats.pearsonr(group1['Area (ft.)'], group1['Price'])[0])    # Pearson's r\n"
      ],
      "execution_count": 83,
      "outputs": [
        {
          "output_type": "stream",
          "name": "stdout",
          "text": [
            "Covariance =  24880800.231764533\n",
            "Correlation =  0.7722898322639614\n"
          ]
        }
      ]
    },
    {
      "cell_type": "markdown",
      "metadata": {
        "id": "NQYxC2Xxhzt5"
      },
      "source": [
        "House\n"
      ]
    },
    {
      "cell_type": "code",
      "metadata": {
        "colab": {
          "base_uri": "https://localhost:8080/"
        },
        "id": "KCW5Ai-ud_rm",
        "outputId": "acc1f5ef-512f-4445-987b-dd0d8984fdd7"
      },
      "source": [
        "print (\"Covarianc e= \", np.cov(group2['Price'].astype(float), group2['Area (ft.)'].astype(float), rowvar=False)[0][1])\n",
        "print (\"Correlation = \", stats.pearsonr(group2['Area (ft.)'], group2['Price'])[0])    # Pearson's r\n"
      ],
      "execution_count": 84,
      "outputs": [
        {
          "output_type": "stream",
          "name": "stdout",
          "text": [
            "Covarianc e=  10897089.726274634\n",
            "Correlation =  0.23186547395535517\n"
          ]
        }
      ]
    },
    {
      "cell_type": "markdown",
      "metadata": {
        "id": "LsZw7gMWiDju"
      },
      "source": [
        "Office"
      ]
    },
    {
      "cell_type": "code",
      "metadata": {
        "colab": {
          "base_uri": "https://localhost:8080/"
        },
        "id": "MXv_PAg_dV-Q",
        "outputId": "c2be9172-52ba-4222-9c20-3ab54664ed43"
      },
      "source": [
        "print (\"Covariance = \", np.cov(group3['Price'].astype(float), group3['Area (ft.)'].astype(float), rowvar=False)[0][1])\n",
        "print (\"Correlation = \", stats.pearsonr(group3['Area (ft.)'], group3['Price'])[0])    # Pearson's r\n"
      ],
      "execution_count": 85,
      "outputs": [
        {
          "output_type": "stream",
          "name": "stdout",
          "text": [
            "Covariance =  26389567.80941081\n",
            "Correlation =  0.8515429608311149\n"
          ]
        }
      ]
    },
    {
      "cell_type": "markdown",
      "metadata": {
        "id": "eA0qfUdzjGUG"
      },
      "source": [
        "Note that \"Houses\" exhibit the highest correlation between Price and Area"
      ]
    },
    {
      "cell_type": "markdown",
      "metadata": {
        "id": "v0Bl2fzcmkLx"
      },
      "source": [
        "**Thanks for reading!**"
      ]
    }
  ]
}